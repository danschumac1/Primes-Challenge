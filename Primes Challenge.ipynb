{
 "cells": [
  {
   "cell_type": "code",
   "execution_count": 14,
   "id": "6879b4ad",
   "metadata": {},
   "outputs": [],
   "source": [
    "#this function prints the number if prime. Otherwise, nothing.\n",
    "\n",
    "def is_this_prime(num):\n",
    "    \n",
    "    prime_list = []\n",
    "    flag = True \n",
    "\n",
    "    for i in range(2,num):     #for int between 2 and 10\n",
    "        if (num % i) == 0:     #if 10 is evenly divisable by integer.\n",
    "            pass               #this is not a prime number\n",
    "            flag = False\n",
    "            break\n",
    "            \n",
    "    if flag is True:\n",
    "        return(num)"
   ]
  },
  {
   "cell_type": "code",
   "execution_count": 15,
   "id": "9f828858",
   "metadata": {},
   "outputs": [],
   "source": [
    "is_this_prime(6)"
   ]
  },
  {
   "cell_type": "code",
   "execution_count": 16,
   "id": "5f074cc3",
   "metadata": {},
   "outputs": [
    {
     "data": {
      "text/plain": [
       "101"
      ]
     },
     "execution_count": 16,
     "metadata": {},
     "output_type": "execute_result"
    }
   ],
   "source": [
    "is_this_prime(101)"
   ]
  },
  {
   "cell_type": "code",
   "execution_count": 17,
   "id": "6de9aa06",
   "metadata": {},
   "outputs": [],
   "source": [
    "is_this_prime(15)"
   ]
  },
  {
   "cell_type": "code",
   "execution_count": 18,
   "id": "b85799d7",
   "metadata": {},
   "outputs": [],
   "source": [
    "is_this_prime(6)"
   ]
  },
  {
   "cell_type": "code",
   "execution_count": 19,
   "id": "705adae9",
   "metadata": {},
   "outputs": [],
   "source": [
    "#this function prints the number if prime. Otherwise, nothing.\n",
    "\n",
    "def is_this_prime(num):\n",
    "    \n",
    "    prime_list = []\n",
    "    flag = True \n",
    "\n",
    "    for i in range(2,num):     #for int between 2 and 10\n",
    "        if (num % i) == 0:     #if 10 is evenly divisable by integer.\n",
    "            pass               #this is not a prime number\n",
    "            flag = False\n",
    "            break\n",
    "            \n",
    "    if flag is True:\n",
    "        return(num)"
   ]
  },
  {
   "cell_type": "code",
   "execution_count": 20,
   "id": "8a03a013",
   "metadata": {},
   "outputs": [],
   "source": [
    "def count_primes(num):\n",
    "    prime_list = []\n",
    "    flag = True \n",
    "    for i in range(2,num):\n",
    "        if type(is_this_prime(i)) == int:\n",
    "            prime_list.append(is_this_prime(i))\n",
    "        else:\n",
    "            pass\n",
    "    return len(prime_list)"
   ]
  },
  {
   "cell_type": "code",
   "execution_count": 21,
   "id": "d38a618c",
   "metadata": {},
   "outputs": [
    {
     "data": {
      "text/plain": [
       "4"
      ]
     },
     "execution_count": 21,
     "metadata": {},
     "output_type": "execute_result"
    }
   ],
   "source": [
    "count_primes(10)"
   ]
  },
  {
   "cell_type": "code",
   "execution_count": 22,
   "id": "619f624c",
   "metadata": {},
   "outputs": [
    {
     "data": {
      "text/plain": [
       "25"
      ]
     },
     "execution_count": 22,
     "metadata": {},
     "output_type": "execute_result"
    }
   ],
   "source": [
    "count_primes(100)"
   ]
  },
  {
   "cell_type": "code",
   "execution_count": 23,
   "id": "fe8dc5c3",
   "metadata": {},
   "outputs": [
    {
     "data": {
      "text/plain": [
       "1229"
      ]
     },
     "execution_count": 23,
     "metadata": {},
     "output_type": "execute_result"
    }
   ],
   "source": [
    "count_primes(10000)"
   ]
  }
 ],
 "metadata": {
  "kernelspec": {
   "display_name": "Python 3 (ipykernel)",
   "language": "python",
   "name": "python3"
  },
  "language_info": {
   "codemirror_mode": {
    "name": "ipython",
    "version": 3
   },
   "file_extension": ".py",
   "mimetype": "text/x-python",
   "name": "python",
   "nbconvert_exporter": "python",
   "pygments_lexer": "ipython3",
   "version": "3.9.12"
  }
 },
 "nbformat": 4,
 "nbformat_minor": 5
}
